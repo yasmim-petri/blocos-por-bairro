{
  "cells": [
    {
      "cell_type": "code",
      "execution_count": 1,
      "metadata": {
        "id": "4rm6qHhYzVEp"
      },
      "outputs": [],
      "source": [
        "import pandas as pd"
      ]
    },
    {
      "cell_type": "code",
      "execution_count": null,
      "metadata": {},
      "outputs": [],
      "source": [
        "# --- Carregar o CSV ---\n",
        "caminho_arquivo = 'dados.csv'  \n",
        "df = pd.read_csv(caminho_arquivo, sep=';')"
      ]
    },
    {
      "cell_type": "code",
      "execution_count": 4,
      "metadata": {
        "id": "OuOPfoZPzpuB"
      },
      "outputs": [
        {
          "name": "stdout",
          "output_type": "stream",
          "text": [
            "Bairros disponíveis:\n",
            "1. Piedade\n",
            "2. Jardim América\n",
            "3. Grajaú\n",
            "4. Santo Cristo\n",
            "5. Tijuca \n",
            "6. Maracanã \n",
            "7. Ipanema \n",
            "8. Vila isabel \n",
            "9. São Conrado \n",
            "10. Recreio dos Bandeirantes\n",
            "11. Laranjeiras \n",
            "12. Ilha do Governador\n",
            "13. Centro\n",
            "14. Madureira\n",
            "15. Botafogo \n",
            "16. Estácio\n",
            "17. Manguinhos\n",
            "18. Engenho de Dentro\n",
            "19. Leblon \n",
            "20. Ramos\n",
            "21. Barra da Tijuca\n",
            "22. Higienópolis\n",
            "23. Irajá\n",
            "24. Gamboa\n",
            "25. Gávea \n",
            "26. Saúde\n",
            "27. Curicica\n",
            "28. Vila da Penha\n",
            "29. Campo Grande\n",
            "30. Pavuna\n",
            "31. Lagoa \n",
            "32. Copacabana \n",
            "33. Méier\n",
            "34. Cidade Nova\n",
            "35. Rio Comprido\n",
            "36. Jardim Botânico \n",
            "37. Lapa\n",
            "38. Quintino Bocaiúva\n",
            "39. Flamengo \n",
            "40. Santa Teresa\n",
            "41. Urca \n",
            "42. Bento Ribeiro\n",
            "43. Catete \n",
            "44. Penha\n",
            "45. Pechincha\n",
            "46. São Cristóvão\n",
            "47. centro\n",
            "48. Leme \n",
            "49. Sulacap\n",
            "50. Bonsucesso\n",
            "51. Abolição\n",
            "52. Praça Seca\n",
            "53. Vista Alegre\n",
            "54. Del Castilho\n",
            "55. Bangu\n",
            "56. Jacarepaguá\n",
            "57. Ilha de Paquetá\n",
            "58. Engenho da Rainha\n",
            "59. Vila Valqueire\n",
            "60. Aterro do Flamengo\n",
            "61. Brás de Pina\n",
            "62. Anil\n",
            "63. Padre Miguel\n",
            "64. Oswaldo Cruz\n",
            "65. Pedra de Guaratiba\n",
            "66. Santíssimo\n",
            "67. Praça da Bandeira \n",
            "68. Glória \n",
            "69. Olaria\n",
            "70. Rocinha\n",
            "71. Taquara\n",
            "72. Senador Camará\n",
            "73. Pilares\n",
            "74. Vila Cosmos\n",
            "75. Jardim Palmares\n",
            "76. Bairro de Fátima\n",
            "77. Vargem Grande\n",
            "78. Anchieta\n",
            "79. Andaraí \n",
            "80. Humaitá \n",
            "81. Sepetiba\n",
            "82. Magalhães Bastos\n",
            "83. Cosmos\n",
            "84. Realengo\n",
            "85. Guaratiba\n"
          ]
        }
      ],
      "source": [
        "# --- Listar bairros disponíveis ---\n",
        "bairros_disponiveis = df['Bairro'].unique()\n",
        "print(\"Bairros disponíveis:\")\n",
        "for i, bairro in enumerate(bairros_disponiveis, 1):\n",
        "    print(f\"{i}. {bairro}\")\n"
      ]
    },
    {
      "cell_type": "code",
      "execution_count": 5,
      "metadata": {
        "id": "zpOjN9H-z0PA"
      },
      "outputs": [],
      "source": [
        "while True:\n",
        "    escolha = input(\"\\nDigite o nome do bairro desejado: \").strip()\n",
        "    if escolha in bairros_disponiveis:\n",
        "        bairro_selecionado = escolha\n",
        "        break\n",
        "    else:\n",
        "        print(\"Bairro não encontrado. Tente novamente.\")\n"
      ]
    },
    {
      "cell_type": "code",
      "execution_count": 9,
      "metadata": {
        "id": "2GelW5UV0KZA"
      },
      "outputs": [
        {
          "name": "stdout",
          "output_type": "stream",
          "text": [
            "\n",
            "Blocos ocorrendo no bairro Irajá por dia:\n",
            "      Data                 Bloco \n",
            "03/02/2018             Calma Amor\n",
            "04/02/2018 Garganta Seca de Irajá\n",
            "27/01/2018             Calma Amor\n"
          ]
        }
      ],
      "source": [
        "# --- Filtrar dados pelo bairro selecionado ---\n",
        "resultado = df[df['Bairro'] == bairro_selecionado][['Data', 'Bloco ']] \\\n",
        "    .sort_values('Data')\n",
        "# --- Mostrar resultado no terminal ---\n",
        "print(f\"\\nBlocos ocorrendo no bairro {bairro_selecionado} por dia:\")\n",
        "print(resultado.to_string(index=False))\n"
      ]
    },
    {
      "cell_type": "code",
      "execution_count": 7,
      "metadata": {
        "id": "W5lSMs6Q0NYH"
      },
      "outputs": [
        {
          "name": "stdout",
          "output_type": "stream",
          "text": [
            "Arquivo exportado como blocos_Irajá.csv\n"
          ]
        }
      ],
      "source": [
        "# --- Perguntar se deseja exportar ---\n",
        "exportar = input(\"\\nDeseja exportar o resultado para CSV? (s/n): \").strip().lower()\n",
        "if exportar == 's':\n",
        "    nome_csv = f\"blocos_{bairro_selecionado.replace(' ', '_')}.csv\"\n",
        "    resultado.to_csv(nome_csv, index=False, sep=';')\n",
        "    print(f\"Arquivo exportado como {nome_csv}\")"
      ]
    }
  ],
  "metadata": {
    "colab": {
      "provenance": []
    },
    "kernelspec": {
      "display_name": "Python 3",
      "name": "python3"
    },
    "language_info": {
      "codemirror_mode": {
        "name": "ipython",
        "version": 3
      },
      "file_extension": ".py",
      "mimetype": "text/x-python",
      "name": "python",
      "nbconvert_exporter": "python",
      "pygments_lexer": "ipython3",
      "version": "3.13.5"
    }
  },
  "nbformat": 4,
  "nbformat_minor": 0
}
